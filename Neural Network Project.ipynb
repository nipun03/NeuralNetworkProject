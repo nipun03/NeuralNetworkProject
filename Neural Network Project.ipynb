{
 "cells": [
  {
   "cell_type": "markdown",
   "metadata": {},
   "source": [
    "# <font color=\"#0995EC\"> I. Introduction </font>\n",
    "\n",
    "The objective of this project is to visualize data and provide preliminary observations. After that, we need to inherit NeuralNet class for regression and implement Nonlinear Regression classifier and use 5-fold cross validation to find good neural network paramters including structure an report the test accuracy. To accomplish this, I have created Logistic Regression class and 5 fold cross validation function and then train the model and report the test accuracy."
   ]
  },
  {
   "cell_type": "markdown",
   "metadata": {},
   "source": [
    "# <font color=\"#FE2E64\"> II. Data </font>\n"
   ]
  },
  {
   "cell_type": "markdown",
   "metadata": {},
   "source": [
    "## Dataset Description:\n",
    "This research was conducted in Chung Hua University, Taiwan and aims at customer's credit card default payments. The goal is to classify whether the customer will have a default payment for the following month or not. The dataset has 23 inputs on which the decision will depend.\n",
    "\n",
    "**It consists of the following attributes:**\n",
    "1. default payment (Yes = 1, No = 0) \n",
    "2. X1: Amount of the given credit\n",
    "3. X2: Gender (1 = male; 2 = female). \n",
    "4. X3: Education (1 = graduate school; 2 = university; 3 = high school; 4 = others). \n",
    "5. X4: Marital status (1 = married; 2 = single; 3 = others). \n",
    "6. X5: Age (year). \n",
    "7. X6 - X11: History of past payment. Tracked the past monthly payment records (from April to September, for the year 2005) as follows:<br>\n",
    "X6 = the repayment status in September, 2005; X7 = the repayment status in August, 2005; . . .;X11 = the repayment status in April, 2005.<br>\n",
    "The measurement scale for the repayment status is: -1 = pay duly, -2 = No consumption; 1 = payment delay for one month; 2 = payment delay for two months; . . .; 8 = payment delay for eight months; 9 = payment delay for nine months and above. \n",
    "8. X12-X17: Amount of bill statement.<br>\n",
    "X12 = amount of bill statement in September, 2005; X13 = amount of bill statement in August, 2005; . . .; X17 = amount of bill statement in April, 2005. \n",
    "9. X18-X23: Amount of previous payment. <br>\n",
    "X18 = amount paid in September, 2005; X19 = amount paid in August, 2005; . . .;X23 = amount paid in April, 2005."
   ]
  },
  {
   "cell_type": "markdown",
   "metadata": {},
   "source": [
    "## Source of data\n",
    "https://archive.ics.uci.edu/ml/machine-learning-databases/00350/"
   ]
  },
  {
   "cell_type": "code",
   "execution_count": 1,
   "metadata": {},
   "outputs": [],
   "source": [
    "import math\n",
    "import pandas as pd\n",
    "import numpy as np\n",
    "import seaborn as sns\n",
    "import matplotlib\n",
    "import copy\n",
    "import matplotlib.pyplot as plt\n",
    "\n",
    "from sklearn import metrics\n",
    "from IPython.display import display, Markdown, HTML\n",
    "\n",
    "# Configurations\n",
    "matplotlib.rcParams['agg.path.chunksize'] = 10000\n",
    "%matplotlib inline\n",
    "\n",
    "# Set display parameters\n",
    "pd.set_option('display.float_format', lambda x: '%.3f' % x)\n",
    "pd.set_option('display.max_rows', 15)\n",
    "pd.set_option('display.max_columns', 10)"
   ]
  },
  {
   "cell_type": "markdown",
   "metadata": {},
   "source": [
    "### Sample of first few rows"
   ]
  },
  {
   "cell_type": "code",
   "execution_count": 2,
   "metadata": {},
   "outputs": [
    {
     "data": {
      "text/html": [
       "<div>\n",
       "<style scoped>\n",
       "    .dataframe tbody tr th:only-of-type {\n",
       "        vertical-align: middle;\n",
       "    }\n",
       "\n",
       "    .dataframe tbody tr th {\n",
       "        vertical-align: top;\n",
       "    }\n",
       "\n",
       "    .dataframe thead th {\n",
       "        text-align: right;\n",
       "    }\n",
       "</style>\n",
       "<table border=\"1\" class=\"dataframe\">\n",
       "  <thead>\n",
       "    <tr style=\"text-align: right;\">\n",
       "      <th></th>\n",
       "      <th>ID</th>\n",
       "      <th>LIMIT_BAL</th>\n",
       "      <th>SEX</th>\n",
       "      <th>EDUCATION</th>\n",
       "      <th>MARRIAGE</th>\n",
       "      <th>...</th>\n",
       "      <th>PAY_AMT3</th>\n",
       "      <th>PAY_AMT4</th>\n",
       "      <th>PAY_AMT5</th>\n",
       "      <th>PAY_AMT6</th>\n",
       "      <th>default payment next month</th>\n",
       "    </tr>\n",
       "  </thead>\n",
       "  <tbody>\n",
       "    <tr>\n",
       "      <th>0</th>\n",
       "      <td>1</td>\n",
       "      <td>20000</td>\n",
       "      <td>2</td>\n",
       "      <td>2</td>\n",
       "      <td>1</td>\n",
       "      <td>...</td>\n",
       "      <td>0</td>\n",
       "      <td>0</td>\n",
       "      <td>0</td>\n",
       "      <td>0</td>\n",
       "      <td>1</td>\n",
       "    </tr>\n",
       "    <tr>\n",
       "      <th>1</th>\n",
       "      <td>2</td>\n",
       "      <td>120000</td>\n",
       "      <td>2</td>\n",
       "      <td>2</td>\n",
       "      <td>2</td>\n",
       "      <td>...</td>\n",
       "      <td>1000</td>\n",
       "      <td>1000</td>\n",
       "      <td>0</td>\n",
       "      <td>2000</td>\n",
       "      <td>1</td>\n",
       "    </tr>\n",
       "    <tr>\n",
       "      <th>2</th>\n",
       "      <td>3</td>\n",
       "      <td>90000</td>\n",
       "      <td>2</td>\n",
       "      <td>2</td>\n",
       "      <td>2</td>\n",
       "      <td>...</td>\n",
       "      <td>1000</td>\n",
       "      <td>1000</td>\n",
       "      <td>1000</td>\n",
       "      <td>5000</td>\n",
       "      <td>0</td>\n",
       "    </tr>\n",
       "    <tr>\n",
       "      <th>3</th>\n",
       "      <td>4</td>\n",
       "      <td>50000</td>\n",
       "      <td>2</td>\n",
       "      <td>2</td>\n",
       "      <td>1</td>\n",
       "      <td>...</td>\n",
       "      <td>1200</td>\n",
       "      <td>1100</td>\n",
       "      <td>1069</td>\n",
       "      <td>1000</td>\n",
       "      <td>0</td>\n",
       "    </tr>\n",
       "    <tr>\n",
       "      <th>4</th>\n",
       "      <td>5</td>\n",
       "      <td>50000</td>\n",
       "      <td>1</td>\n",
       "      <td>2</td>\n",
       "      <td>1</td>\n",
       "      <td>...</td>\n",
       "      <td>10000</td>\n",
       "      <td>9000</td>\n",
       "      <td>689</td>\n",
       "      <td>679</td>\n",
       "      <td>0</td>\n",
       "    </tr>\n",
       "  </tbody>\n",
       "</table>\n",
       "<p>5 rows × 25 columns</p>\n",
       "</div>"
      ],
      "text/plain": [
       "   ID  LIMIT_BAL  SEX  EDUCATION  MARRIAGE             ...              \\\n",
       "0   1      20000    2          2         1             ...               \n",
       "1   2     120000    2          2         2             ...               \n",
       "2   3      90000    2          2         2             ...               \n",
       "3   4      50000    2          2         1             ...               \n",
       "4   5      50000    1          2         1             ...               \n",
       "\n",
       "   PAY_AMT3  PAY_AMT4  PAY_AMT5  PAY_AMT6  default payment next month  \n",
       "0         0         0         0         0                           1  \n",
       "1      1000      1000         0      2000                           1  \n",
       "2      1000      1000      1000      5000                           0  \n",
       "3      1200      1100      1069      1000                           0  \n",
       "4     10000      9000       689       679                           0  \n",
       "\n",
       "[5 rows x 25 columns]"
      ]
     },
     "execution_count": 2,
     "metadata": {},
     "output_type": "execute_result"
    }
   ],
   "source": [
    "df = pd.read_csv(r'Credit Card Defaulters.csv')\n",
    "df.head()"
   ]
  },
  {
   "cell_type": "markdown",
   "metadata": {},
   "source": [
    "### Variable Data Type"
   ]
  },
  {
   "cell_type": "code",
   "execution_count": 3,
   "metadata": {},
   "outputs": [
    {
     "name": "stdout",
     "output_type": "stream",
     "text": [
      "<class 'pandas.core.frame.DataFrame'>\n",
      "RangeIndex: 30000 entries, 0 to 29999\n",
      "Data columns (total 25 columns):\n",
      "ID                            30000 non-null int64\n",
      "LIMIT_BAL                     30000 non-null int64\n",
      "SEX                           30000 non-null int64\n",
      "EDUCATION                     30000 non-null int64\n",
      "MARRIAGE                      30000 non-null int64\n",
      "AGE                           30000 non-null int64\n",
      "PAY_1                         30000 non-null int64\n",
      "PAY_2                         30000 non-null int64\n",
      "PAY_3                         30000 non-null int64\n",
      "PAY_4                         30000 non-null int64\n",
      "PAY_5                         30000 non-null int64\n",
      "PAY_6                         30000 non-null int64\n",
      "BILL_AMT1                     30000 non-null int64\n",
      "BILL_AMT2                     30000 non-null int64\n",
      "BILL_AMT3                     30000 non-null int64\n",
      "BILL_AMT4                     30000 non-null int64\n",
      "BILL_AMT5                     30000 non-null int64\n",
      "BILL_AMT6                     30000 non-null int64\n",
      "PAY_AMT1                      30000 non-null int64\n",
      "PAY_AMT2                      30000 non-null int64\n",
      "PAY_AMT3                      30000 non-null int64\n",
      "PAY_AMT4                      30000 non-null int64\n",
      "PAY_AMT5                      30000 non-null int64\n",
      "PAY_AMT6                      30000 non-null int64\n",
      "default payment next month    30000 non-null int64\n",
      "dtypes: int64(25)\n",
      "memory usage: 5.7 MB\n"
     ]
    }
   ],
   "source": [
    "df.info()"
   ]
  },
  {
   "cell_type": "markdown",
   "metadata": {},
   "source": [
    "**_Checking the type of each variable and if there are any missing values in the dataset. Since all the columns have 30000 entries, we will continue with further stages of pre-processing._**"
   ]
  },
  {
   "cell_type": "code",
   "execution_count": 4,
   "metadata": {},
   "outputs": [
    {
     "data": {
      "text/html": [
       "<div>\n",
       "<style scoped>\n",
       "    .dataframe tbody tr th:only-of-type {\n",
       "        vertical-align: middle;\n",
       "    }\n",
       "\n",
       "    .dataframe tbody tr th {\n",
       "        vertical-align: top;\n",
       "    }\n",
       "\n",
       "    .dataframe thead th {\n",
       "        text-align: right;\n",
       "    }\n",
       "</style>\n",
       "<table border=\"1\" class=\"dataframe\">\n",
       "  <thead>\n",
       "    <tr style=\"text-align: right;\">\n",
       "      <th></th>\n",
       "      <th>ID</th>\n",
       "      <th>LIMIT_BAL</th>\n",
       "      <th>SEX</th>\n",
       "      <th>EDUCATION</th>\n",
       "      <th>MARRIAGE</th>\n",
       "      <th>...</th>\n",
       "      <th>PAY_AMT3</th>\n",
       "      <th>PAY_AMT4</th>\n",
       "      <th>PAY_AMT5</th>\n",
       "      <th>PAY_AMT6</th>\n",
       "      <th>default payment next month</th>\n",
       "    </tr>\n",
       "  </thead>\n",
       "  <tbody>\n",
       "    <tr>\n",
       "      <th>0</th>\n",
       "      <td>1</td>\n",
       "      <td>20000</td>\n",
       "      <td>Female</td>\n",
       "      <td>Univeristy</td>\n",
       "      <td>Married</td>\n",
       "      <td>...</td>\n",
       "      <td>0</td>\n",
       "      <td>0</td>\n",
       "      <td>0</td>\n",
       "      <td>0</td>\n",
       "      <td>1</td>\n",
       "    </tr>\n",
       "    <tr>\n",
       "      <th>1</th>\n",
       "      <td>2</td>\n",
       "      <td>120000</td>\n",
       "      <td>Female</td>\n",
       "      <td>Univeristy</td>\n",
       "      <td>Single</td>\n",
       "      <td>...</td>\n",
       "      <td>1000</td>\n",
       "      <td>1000</td>\n",
       "      <td>0</td>\n",
       "      <td>2000</td>\n",
       "      <td>1</td>\n",
       "    </tr>\n",
       "    <tr>\n",
       "      <th>2</th>\n",
       "      <td>3</td>\n",
       "      <td>90000</td>\n",
       "      <td>Female</td>\n",
       "      <td>Univeristy</td>\n",
       "      <td>Single</td>\n",
       "      <td>...</td>\n",
       "      <td>1000</td>\n",
       "      <td>1000</td>\n",
       "      <td>1000</td>\n",
       "      <td>5000</td>\n",
       "      <td>0</td>\n",
       "    </tr>\n",
       "    <tr>\n",
       "      <th>3</th>\n",
       "      <td>4</td>\n",
       "      <td>50000</td>\n",
       "      <td>Female</td>\n",
       "      <td>Univeristy</td>\n",
       "      <td>Married</td>\n",
       "      <td>...</td>\n",
       "      <td>1200</td>\n",
       "      <td>1100</td>\n",
       "      <td>1069</td>\n",
       "      <td>1000</td>\n",
       "      <td>0</td>\n",
       "    </tr>\n",
       "    <tr>\n",
       "      <th>4</th>\n",
       "      <td>5</td>\n",
       "      <td>50000</td>\n",
       "      <td>Male</td>\n",
       "      <td>Univeristy</td>\n",
       "      <td>Married</td>\n",
       "      <td>...</td>\n",
       "      <td>10000</td>\n",
       "      <td>9000</td>\n",
       "      <td>689</td>\n",
       "      <td>679</td>\n",
       "      <td>0</td>\n",
       "    </tr>\n",
       "  </tbody>\n",
       "</table>\n",
       "<p>5 rows × 25 columns</p>\n",
       "</div>"
      ],
      "text/plain": [
       "   ID  LIMIT_BAL     SEX   EDUCATION MARRIAGE             ...              \\\n",
       "0   1      20000  Female  Univeristy  Married             ...               \n",
       "1   2     120000  Female  Univeristy   Single             ...               \n",
       "2   3      90000  Female  Univeristy   Single             ...               \n",
       "3   4      50000  Female  Univeristy  Married             ...               \n",
       "4   5      50000    Male  Univeristy  Married             ...               \n",
       "\n",
       "   PAY_AMT3  PAY_AMT4  PAY_AMT5  PAY_AMT6  default payment next month  \n",
       "0         0         0         0         0                           1  \n",
       "1      1000      1000         0      2000                           1  \n",
       "2      1000      1000      1000      5000                           0  \n",
       "3      1200      1100      1069      1000                           0  \n",
       "4     10000      9000       689       679                           0  \n",
       "\n",
       "[5 rows x 25 columns]"
      ]
     },
     "execution_count": 4,
     "metadata": {},
     "output_type": "execute_result"
    }
   ],
   "source": [
    "df['SEX'].replace({1: 'Male', 2 : 'Female'}, inplace=True)\n",
    "df['MARRIAGE'].replace({1: 'Married', 2 : 'Single', 3 : 'Others'}, inplace=True)\n",
    "df['EDUCATION'].replace({1: 'Gradudate School', 2 : 'Univeristy', 3 : 'High School', 4 : 'Others'}, inplace=True)\n",
    "df.head()"
   ]
  },
  {
   "cell_type": "markdown",
   "metadata": {},
   "source": [
    "**As a part of pre-processing replacing number with characters so that graphs look more visually appealing and user readable.**"
   ]
  },
  {
   "cell_type": "markdown",
   "metadata": {},
   "source": [
    "### Correlation Matrix"
   ]
  },
  {
   "cell_type": "code",
   "execution_count": 5,
   "metadata": {},
   "outputs": [
    {
     "data": {
      "image/png": "[encoded data removed]",
      "text/plain": [
       "<matplotlib.figure.Figure at 0x1b4b4a28438>"
      ]
     },
     "metadata": {},
     "output_type": "display_data"
    }
   ],
   "source": [
    "corrmat=df[[\"BILL_AMT1\", \"BILL_AMT2\", \"BILL_AMT3\", \"BILL_AMT4\", \"BILL_AMT5\", \"BILL_AMT6\", \"PAY_AMT1\", \"PAY_AMT2\", \"PAY_AMT3\", \"PAY_AMT4\", \"PAY_AMT5\", \"PAY_AMT6\",\"LIMIT_BAL\" ]].corr()\n",
    "fig, plot2=plt.subplots(figsize=(20,8))\n",
    "sns.heatmap(corrmat, vmax=.75, square=True, annot=True)\n",
    "plt.show()"
   ]
  },
  {
   "cell_type": "markdown",
   "metadata": {},
   "source": [
    "*I have created a correlation matrix between limit balances, bill amounts and payments amounts. We can infer that there is a low correlation between the limit balances and payments and bill amounts. But it can be seen that bill amounts has high correlation between each other as expected since the bills are reflecting the cumulative amounts.*"
   ]
  },
  {
   "cell_type": "markdown",
   "metadata": {},
   "source": [
    "### Box Plot"
   ]
  },
  {
   "cell_type": "code",
   "execution_count": 6,
   "metadata": {},
   "outputs": [
    {
     "data": {
      "image/png": "[encoded data removed]",
      "text/plain": [
       "<matplotlib.figure.Figure at 0x1b4bbc0ac88>"
      ]
     },
     "metadata": {},
     "output_type": "display_data"
    }
   ],
   "source": [
    "plt.figure(figsize=(10,8))\n",
    "age=df[(df['AGE']>=21) & (df['AGE']<=80) ]\n",
    "sns.boxplot( y=age['AGE'],data=age)\n",
    "plt.title(\"Age boxplot\", fontsize=16)\n",
    "plt.ylabel(\"Age\", fontsize=16)\n",
    "plt.grid()\n",
    "plt.show();"
   ]
  },
  {
   "cell_type": "markdown",
   "metadata": {},
   "source": [
    "**Age Boxplot**\n",
    "\n",
    "*The median age is 34 years old and most customers are between 28 and 41 years old*"
   ]
  },
  {
   "cell_type": "markdown",
   "metadata": {},
   "source": [
    "### Bar Plot"
   ]
  },
  {
   "cell_type": "code",
   "execution_count": 7,
   "metadata": {},
   "outputs": [
    {
     "data": {
      "image/png": "[encoded data removed]",
      "text/plain": [
       "<matplotlib.figure.Figure at 0x1b4bbc57f28>"
      ]
     },
     "metadata": {},
     "output_type": "display_data"
    }
   ],
   "source": [
    "plt.figure(figsize=(12,8))\n",
    "sex = df['SEX'].value_counts()\n",
    "sns.barplot(y=sex.index, x=sex.values, alpha=0.6)\n",
    "plt.yticks(range(len(df['SEX'].value_counts().index)), ['Male', 'Female'])\n",
    "plt.title(\"Gender Distribution of customers\", fontsize=16)\n",
    "plt.xlabel(\"Number of customers\", fontsize=16)\n",
    "plt.ylabel(\"Gender\", fontsize=16)\n",
    "plt.show();"
   ]
  },
  {
   "cell_type": "markdown",
   "metadata": {},
   "source": [
    "*The above barplot shows the number of male and female customers in the dataset. Male customers are dominating population in the dataset so we can infer that there could be a possibility of males customers using the credit card more than female customers.*"
   ]
  },
  {
   "cell_type": "markdown",
   "metadata": {},
   "source": [
    "*From the above plot we can see that there is no change at female side in balance limits depending on their marital status but it changes a lot for the male side maybe because of the expenditures after marriage which is the reason on increased balance limits.*"
   ]
  },
  {
   "cell_type": "markdown",
   "metadata": {},
   "source": [
    "### Bar Plot"
   ]
  },
  {
   "cell_type": "code",
   "execution_count": 8,
   "metadata": {},
   "outputs": [
    {
     "data": {
      "image/png": "[encoded data removed]",
      "text/plain": [
       "<matplotlib.figure.Figure at 0x1b4bb74a978>"
      ]
     },
     "metadata": {},
     "output_type": "display_data"
    }
   ],
   "source": [
    "plt.figure(figsize=(12,8))\n",
    "edu = df['EDUCATION'].value_counts()\n",
    "sns.barplot(y=edu.index, x=edu.values, alpha=0.6)\n",
    "plt.yticks(range(len(df['EDUCATION'].value_counts().index)), ['Gradudate School', 'Univeristy', 'High School', 'Others'])\n",
    "plt.title(\"Education Distribution of the customers\", fontsize=16)\n",
    "plt.xlabel(\"Number of customers\", fontsize=16)\n",
    "plt.ylabel(\"Education Level\", fontsize=16)\n",
    "plt.show();"
   ]
  },
  {
   "cell_type": "markdown",
   "metadata": {},
   "source": [
    "*The above barplot shows the number of customers and their education level in the data set. Maximum number of Graduate school students are using the  credit card followed by university going students, high school students and others.*"
   ]
  },
  {
   "cell_type": "code",
   "execution_count": 9,
   "metadata": {},
   "outputs": [
    {
     "data": {
      "text/plain": [
       "<matplotlib.axes._subplots.AxesSubplot at 0x1b4bb6f9cf8>"
      ]
     },
     "execution_count": 9,
     "metadata": {},
     "output_type": "execute_result"
    },
    {
     "data": {
      "image/png": "[encoded data removed]",
      "text/plain": [
       "<matplotlib.figure.Figure at 0x1b4bb70e748>"
      ]
     },
     "metadata": {},
     "output_type": "display_data"
    }
   ],
   "source": [
    "plt.figure(figsize=(12,8))\n",
    "df[\"default payment next month\"].replace({\"\"})\n",
    "sns.barplot(x='EDUCATION',y='AGE', hue='default payment next month', data=df, saturation=1 )"
   ]
  },
  {
   "cell_type": "markdown",
   "metadata": {},
   "source": [
    "*The above graph is a comparison between age and education and shows customers who have a default payment next month. Most of the defaulters are others who could probably be school drop outs and hence don't have funds in the form of scholarship to meet their payments and end up being defaulters.\n",
    "Whereas all the other students could be among the people with scholarship or funds from their parents and have an equal possibility of not being defaulters.*"
   ]
  },
  {
   "cell_type": "markdown",
   "metadata": {},
   "source": []
  },
  {
   "cell_type": "markdown",
   "metadata": {},
   "source": [
    "### Pie chart and Count plot"
   ]
  },
  {
   "cell_type": "code",
   "execution_count": 10,
   "metadata": {},
   "outputs": [
    {
     "data": {
      "image/png": "[encoded data removed]",
      "text/plain": [
       "<matplotlib.figure.Figure at 0x1b4bb7ad400>"
      ]
     },
     "metadata": {},
     "output_type": "display_data"
    }
   ],
   "source": [
    "f,ax=plt.subplots(1,2,figsize=(18,8))\n",
    "colors=[\"#00FA9A\", \"#F08080\"]\n",
    "labels = 'No', 'Yes'\n",
    "df['default payment next month'].value_counts().plot.pie(explode=[0,0.1],autopct='%1.1f%%',ax=ax[0],shadow=True, colors=colors, labels=labels,fontsize=14)\n",
    "ax[0].set_title('Default Payment Next Month', fontsize=20)\n",
    "ax[0].set_ylabel('% of Defaulters', fontsize=16)\n",
    "sns.countplot('default payment next month',data=df,ax=ax[1], palette=colors)\n",
    "ax[1].set_title('Default Payment Next Month', fontsize=20)\n",
    "ax[1].set_xticklabels(['No', 'Yes'], fontsize=16)\n",
    "plt.show()"
   ]
  },
  {
   "cell_type": "markdown",
   "metadata": {},
   "source": [
    "*The Pie chart gives the percentage of defaulters and the Count plot gives the number of defaulters.\n",
    "We can infer that 22.1% which is 6, 630 customer out of a total of 30,000 will be defaulters next month. Whereas 77.9% which is 23,370 will make the monthly payment.*"
   ]
  },
  {
   "cell_type": "markdown",
   "metadata": {},
   "source": [
    "# <font color=\"#07D01E\">  III. Methods </font>"
   ]
  },
  {
   "cell_type": "markdown",
   "metadata": {},
   "source": [
    "# TO START\n",
    "\n",
    "- download [a4.tgz](http://webpages.uncc.edu/mlee173/teach/itcs6156/notebooks/assign/a4.tgz). \n",
    "- import the necessary classes or functions including NeuralNet.\n",
    "- inherit NeuralNet and make NeuralNetLogReg"
   ]
  },
  {
   "cell_type": "markdown",
   "metadata": {},
   "source": [
    "$\\newcommand{\\xv}{\\mathbf{x}}\n",
    " \\newcommand{\\wv}{\\mathbf{w}}\n",
    " \\newcommand{\\yv}{\\mathbf{y}}\n",
    " \\newcommand{\\zv}{\\mathbf{z}}\n",
    " \\newcommand{\\Chi}{\\mathcal{X}}\n",
    " \\newcommand{\\R}{\\rm I\\!R}\n",
    " \\newcommand{\\sign}{\\text{sign}}\n",
    " \\newcommand{\\Tm}{\\mathbf{T}}\n",
    " \\newcommand{\\Xm}{\\mathbf{X}}\n",
    " \\newcommand{\\Xlm}{\\mathbf{X1}}\n",
    " \\newcommand{\\Wm}{\\mathbf{W}}\n",
    " \\newcommand{\\Vm}{\\mathbf{V}}\n",
    " \\newcommand{\\Ym}{\\mathbf{Y}}\n",
    " \\newcommand{\\Zm}{\\mathbf{Z}}\n",
    " \\newcommand{\\Zlm}{\\mathbf{Z1}}\n",
    " \\newcommand{\\I}{\\mathbf{I}}\n",
    " \\newcommand{\\muv}{\\boldsymbol\\mu}\n",
    " \\newcommand{\\Sigmav}{\\boldsymbol\\Sigma}\n",
    " \\newcommand{\\Phiv}{\\boldsymbol\\Phi}\n",
    "$\n",
    "\n",
    "# Summary of Neural Networks\n",
    "\n",
    "Neural networks, or artificial neural networks, are the computational models inspired by the brain. Mimicing the neurons' synaptic connecions (Figure 1), we build or stack multiple neuron-like hidden units to map data into nonlinear space for rich representation. \n",
    "\n",
    "<img src=\"https://upload.wikimedia.org/wikipedia/commons/1/10/Blausen_0657_MultipolarNeuron.png\" width=500/>\n",
    "<center>Figure 1. Anatomy of a neuron (wikipedia) </center>\n",
    "\n",
    "Now, let us review the perceptron model. \n",
    "\n",
    "<img src=\"http://webpages.uncc.edu/mlee173/teach/itcs6156/images/class/perceptron.png\" width=600 />\n",
    "\n",
    "In perceptron, passing the output of linear model to the step function, we get discrete outputs. \n",
    "Now, you can think a perceptron as a neuron. With a threshold zero, when the linear model outputs are over it, it passes the signal to next neuron. \n",
    "\n",
    "By connecting the perceptrons, we can actually build synaptic connections.\n",
    "We call this model as *multi-layer perceptron* (MLP). \n",
    "\n"
   ]
  },
  {
   "cell_type": "code",
   "execution_count": 11,
   "metadata": {},
   "outputs": [],
   "source": [
    "from nn import NeuralNet\n",
    "\n",
    "class NeuralNetLogReg(NeuralNet):\n",
    "    \"\"\" Nonlinear Logistic Regression\n",
    "    \"\"\"\n",
    "\n",
    "    def __init__(self, nunits):\n",
    "        super().__init__(nunits)\n",
    "       \n",
    "\n",
    "    def forward(self, X):\n",
    "        t = X \n",
    "        Z = []\n",
    "\n",
    "        for i in range(self._nLayers):\n",
    "            Z.append(t) \n",
    "            if i == self._nLayers - 1:\n",
    "                t = np.dot(self.add_ones(t), self._W[i])\n",
    "            else:\n",
    "                t = 1 / (1 + np.exp(-np.dot(self.add_ones(t), self._W[i])))\n",
    "            \n",
    "        return (t, Z)\n",
    "        \n",
    "\n",
    "\n",
    "    def _objectf(self, T, Y, wpenalty):\n",
    "        return 0.5 * np.mean(np.square(T - Y)) + wpenalty\n",
    "\n",
    "    def train(self, X, T, **params):\n",
    "        c = np.unique(T).tolist()\n",
    "        T = (T == c).astype(int)\n",
    "        return super().train(X, T, **params)\n",
    "\n",
    "    def use(self, X):\n",
    "        return super().use(X)\n"
   ]
  },
  {
   "cell_type": "markdown",
   "metadata": {},
   "source": [
    "## Summary of Nonlinear Logistic Regression\n",
    "\n",
    "$$\n",
    "g_k(x) = P(T=k \\mid x) = \\frac{e^{\\kappa_k}}{\\sum_{c=1}^K e^{\\kappa_c}}\n",
    "$$\n",
    "\n",
    "By using this softmax function, we were able to generate probablistic outputs for all classes. To handle multi-label classes, we use the indicator target labels for training to update the weights for the linear model. \n",
    "Following the derivation, we have achieved the following update rule: \n",
    "\n",
    "\n",
    "\n",
    "$$\n",
    "w_j \\leftarrow w_j + \\alpha \\sum_{n=1}^{N} \\Big( t_{n,j} - g_j(x_n)\\Big) x_n.\n",
    "$$\n",
    "\n",
    "To update the weights with batch samples, we can convert this update rule in matrix form as follows:\n",
    "\n",
    "$$\n",
    "w \\leftarrow w + \\alpha X^\\top \\Big(  T - g(X)\\Big).\n",
    "$$\n",
    "\n",
    "We start from the error function below for the derivation before:\n",
    "\n",
    "$$\n",
    "E(w) = - \\ln P(T \\mid w) =  - \\sum_{n=1}^{N} \\sum_{k=1}^{K} t_{n,k} \\ln y_{n,k}.\n",
    "$$\n",
    "Now, we extend this to two layer neural networks. Similar to the derivation of neural network for regression, we can derive the gradient by switching the squuared error with the negative log likelihood function above. \n",
    "<img src=\"http://webpages.uncc.edu/mlee173/teach/itcs6156/images/class/nonlinearlogreg.png\" width=600 />\n",
    "\n",
    "\n",
    "\n",
    "From the error function $E(\\wv)$, we can derive the gradient to update the weights for each layer. \n",
    "\n",
    "\n",
    "$$\n",
    "\\begin{align}\n",
    "v_{dg} &\\leftarrow v_{dg} - \\alpha_h \\frac{\\partial{E(\\Wm, \\Vm)}} {\\partial{v_{dg}}} \\\\ \n",
    "\\\\ \n",
    "w_{gk} &\\leftarrow w_{gk} - \\alpha_o \\frac{\\partial{E(\\Wm, \\Vm)}} {\\partial{w_{gk}}},\n",
    "\\end{align}\n",
    "$$\n",
    "\n",
    "where $\\alpha_h$ and $\\alpha_o$ are the learning rate for hidden and output layer respectively. Here, we denote the output of the neural network as $\\kappa$. \n",
    "\n",
    "$$\n",
    "\\begin{align}\n",
    "\\frac{\\partial{E}}{\\partial{w_{gk^\\prime}}} &= -\\frac{\\partial{\\Big( \\frac{1}{N} \\frac{1}{K} \\sum_{n=1}^{N} \\sum_{k=1}^{K} (t_{nk} \\ln g_{nk}(\\xv_n))} \\Big)}{\\partial{w_{gk^\\prime}}} \\\\\n",
    "   \\\\\n",
    "    &= -\\sum_{n=1}^{N} \\sum_{k=1}^{K} t_{n,k} \\frac{1}{g_{n,k^\\prime}(\\xv_n)} \\frac{\\partial g_{n,k^\\prime}(\\xv_n)}{\\partial  {w_{gk^\\prime}}}\\\\\n",
    "    &= -\\sum_{n=1}^{N} \\sum_{k=1}^{K} t_{n,k} \\frac{1}{g_{n,k^\\prime}(\\xv_n)} \\frac{\\partial g_{n,k^\\prime}(\\xv_n)}{\\partial  \\kappa_{nk}} \\frac{\\partial  \\kappa_{nk} }{\\partial  {w_{gk^\\prime}}}\\\\\n",
    "    &= -\\sum_{n=1}^{N} \\sum_{k=1}^{K} t_{n,k} \\frac{1}{g_{n,k^\\prime}(\\xv_n)} g_{nk^\\prime}(\\xv_n) (I_{kk^\\prime} - g_{nk^\\prime}(\\xv_n))  \\frac{\\partial  \\kappa_{nk} }{\\partial  {w_{gk^\\prime}}}\\\\\n",
    "    &= -\\sum_{n=1}^{N} \\sum_{k=1}^{K} t_{n,k} (I_{kk^\\prime} - g_{nk^\\prime}(\\xv_n))  \\frac{\\partial  \\sum_{g=0}^{G} z1_{ng} w_{gk}  }{\\partial  {w_{gk^\\prime}}}\\\\\n",
    "    &= -\\sum_{n=1}^{N} \\sum_{k=1}^{K} t_{n,k} (I_{kk^\\prime} - g_{nk^\\prime}(\\xv_n)) z1_{nk^\\prime}\\\\\n",
    "    &= -\\sum_{n=1}^{N} \\Big(\\sum_{k=1}^{K}  t_{n,k} (I_{kk^\\prime} - g_{nk^\\prime}(\\xv_n)) \\Big) z1_{nk^\\prime}\\\\\n",
    "    &= -\\sum_{n=1}^{N} \\Big( \\sum_{k=1}^{K} t_{n,k} I_{kk^\\prime} - g_{nk^\\prime}(\\xv_n) \\sum_{k=1}^{K} t_{n,k}  \\Big) z1_{nk^\\prime}\\\\\n",
    "    &= -\\sum_{n=1}^{N} \\Big( t_{n,k^\\prime} - g_{nk^\\prime}(\\xv_n) \\Big) z1_{nk^\\prime}.\n",
    "\\end{align}\n",
    "$$\n",
    "\n",
    "Coverting this gradient in matrix form and reflecting it on our weight update,\n",
    "\n",
    "$$\n",
    "\\Wm \\leftarrow \\Wm + \\alpha_o \\Zlm^\\top \\Big(  \\Tm - g(\\Xm)\\Big).\n",
    "$$\n",
    "\n",
    "Now let us update the weight $v$ for the hidden layer. \n",
    "For the hidden layer, we repeat this: \n",
    "\n",
    "$$\n",
    "\\begin{align}\n",
    "\\frac{\\partial{E}}{\\partial{v_{dg}}} &= \\frac{\\partial{\\Big( \\frac{1}{N} \\frac{1}{K} \\sum_{n=1}^{N} \\sum_{k=1}^{K} (t_{nk} \\ln g_{nk}(\\xv_n))}  \\Big)}{\\partial{v_{dg}}} \\\\\n",
    "    &= -\\sum_{n=1}^{N} \\sum_{k=1}^{K} t_{n,k} \\frac{1}{g_{n,k}(\\xv_n)} \\frac{\\partial g_{n,k}(\\xv_n)}{\\partial  {v_{dg}}}\\\\\n",
    "    &= -\\sum_{n=1}^{N} \\sum_{k=1}^{K} t_{n,k} \\frac{1}{g_{n,k}(\\xv_n)} \\frac{\\partial g_{n,k}(\\xv_n)} {\\partial \\kappa_{nk}} \\frac{\\partial \\kappa_{nk}} {\\partial  {v_{dg}}}\\\\\n",
    "    &= -\\sum_{n=1}^{N} \\sum_{k=1}^{K} t_{n,k} \\frac{1}{g_{n,k}(\\xv_n)} \\frac{\\partial g_{n,k}(\\xv_n)} {\\partial \\kappa_{nk}} \\sum_{g=0}^G w_{gk} \\frac{\\partial{h(a_{ng})}}{\\partial{a_{ng}}} \\frac{\\partial{a_{ng}}}{\\partial{v_{dg}}}\\\\\n",
    "    &= -\\sum_{n=1}^{N} \\sum_{k=1}^{K} t_{n,k} (I_{kk^\\prime} - g_{nk^\\prime}(x_n)) \\sum_{g=0}^G w_{gl} \\frac{\\partial{h(a_{ng})}}{\\partial{a_{ng}}} \\frac{\\partial{a_{ng}}}{\\partial{v_{dg}}}\\\\\n",
    "    &= -\\sum_{n=1}^{N} \\sum_{k=1}^{K} t_{n,k} (I_{kk^\\prime} - g_{nk^\\prime}(\\xv_n)) \\sum_{g=0}^G w_{gk} \\frac{\\partial{h(a_{ng})}}{\\partial{a_{ng}}} x1_{nd}\\\\\n",
    "    &= -\\sum_{n=1}^{N} \\sum_{k=1}^{K} t_{n,k} (I_{kk^\\prime} - g_{nk^\\prime}(\\xv_n)) \\sum_{g=0}^G w_{gk} \\frac{\\partial{h(a_{ng})}}{\\partial{a_{ng}}} x1_{nd}\\\\\n",
    "    &= -\\sum_{n=1}^{N} \\sum_{k=1}^{K} t_{n,k} (I_{kk^\\prime} - g_{nk^\\prime}(\\xv_n)) \\sum_{g=0}^G w_{gk} (1 - z_{ng}^2) x1_{nd}.\n",
    "\\end{align}\n",
    "$$\n",
    "\n",
    "Again, coverting in matrix form for the hidden weight update,\n",
    "\n",
    "\n",
    "$$\n",
    "\\Vm \\leftarrow \\Vm + \\alpha_h \\Xlm^\\top \\Big( (\\Tm - g(\\Xm)) \\Wm^\\top \\odot (1 - \\Zm^2) \\Big).\n",
    "$$\n",
    "\n",
    "Here, $\\odot$ denotes the element-wise multiplication. "
   ]
  },
  {
   "cell_type": "code",
   "execution_count": 12,
   "metadata": {},
   "outputs": [],
   "source": [
    "# Shuffle the dataset\n",
    "data = pd.read_csv(r'Credit Card Defaulters.csv')\n",
    "data.rename(columns = {'default payment next month':'default'}, inplace=True)\n",
    "train = data.sample(frac = .75)\n",
    "test = data.sample(frac = .25)\n",
    "dataset = train.sample(frac=1).reset_index(drop=True)\n",
    "dataset1 = test.sample(frac=1).reset_index(drop=True)\n",
    "\n",
    "# Selecting the columns which show the maximum corelation with the target value\n",
    "selected_cols = ['LIMIT_BAL','SEX','EDUCATION','MARRIAGE','AGE','PAY_1','PAY_2','PAY_3','PAY_4','PAY_5','PAY_6','BILL_AMT1','BILL_AMT2','BILL_AMT3','BILL_AMT4','BILL_AMT5','BILL_AMT6','PAY_AMT1','PAY_AMT2','PAY_AMT3','PAY_AMT4','PAY_AMT5','PAY_AMT6']\n",
    "X_train = dataset[selected_cols].values\n",
    "T_train = dataset['default'].values\n",
    "T_train = T_train.reshape(-1, 1)\n",
    "\n",
    "\n",
    "X_test = dataset1[selected_cols].values\n",
    "T_test = dataset1['default'].values\n",
    "T_test = T_test.reshape(-1, 1)"
   ]
  },
  {
   "cell_type": "markdown",
   "metadata": {},
   "source": [
    "### Preliminary Analysis Nonlinear Logistic Regression\n",
    "*First I will be calculating accuracy of the target test set without cross validation and later we will see whether 5 fold cross validation will increase the accuracy of the target test set or not. For this I have taken 4 hidden and I will be training the epochs for 500 times then I use this classifier on my train set and check for the accuracy of the target test set.*"
   ]
  },
  {
   "cell_type": "code",
   "execution_count": 13,
   "metadata": {},
   "outputs": [],
   "source": [
    "clsf = NeuralNetLogReg([X_train.shape[1], 4, 2]) #Classifier takes input as Non Logistic Regression\n",
    "T_train = T_train.reshape(T_train.shape[0],1)\n",
    "clsf.train(X_train, T_train, ftracep=True)\n",
    "y = clsf.use(X_test)"
   ]
  },
  {
   "cell_type": "code",
   "execution_count": 14,
   "metadata": {},
   "outputs": [],
   "source": [
    "y= np.argmax(y, 1)"
   ]
  },
  {
   "cell_type": "code",
   "execution_count": 15,
   "metadata": {},
   "outputs": [
    {
     "name": "stdout",
     "output_type": "stream",
     "text": [
      "Accuracy:  77.27074844444445 %\n"
     ]
    },
    {
     "data": {
      "image/png": "[encoded data removed]",
      "text/plain": [
       "<matplotlib.figure.Figure at 0x1b4bb7ccb00>"
      ]
     },
     "metadata": {},
     "output_type": "display_data"
    }
   ],
   "source": [
    "plt.plot(T_test, color = \"#1ECA4E\")\n",
    "plt.plot(y, color = \"#DE0D67\")\n",
    "\n",
    "print(\"Accuracy: \", 100 - np.mean(np.abs(T_test - y)) * 100, \"%\")"
   ]
  },
  {
   "cell_type": "markdown",
   "metadata": {},
   "source": [
    "### Logistic Regression\n",
    "The classifier I have picked is Linear Regression.\n",
    "Logistic regression model predicts $P(T=k \\mid \\xv)$ for every class k. Reconsidering the Linear Regression model:\n",
    "$$\n",
    "\\kappa = f(\\xv ; \\wv) = \\Xm \\wv.\n",
    "$$\n",
    "\n",
    "Thus, for Logistic Regression we have:\n",
    "\n",
    "$$\n",
    "P(T=k \\mid \\xv) = h(\\Xm \\wv) = h(\\kappa) = y.\n",
    "$$\n",
    "\n",
    "The error function for Logistic Regression is defined as:\n",
    "$$\n",
    "E(\\wv) = - \\ln P(\\Tm \\mid \\wv) =  - \\sum_{n=1}^{N} \\sum_{k=1}^{K} t_{n,k} \\ln y_{n,k}.\n",
    "$$\n",
    "It is also called *cross-entropy* error function.\n",
    "\n",
    "Applying Gradient Descent on this error function:\n",
    "$$\n",
    "\\wv_j \\leftarrow \\wv_j + \\alpha \\Xm^\\top \\Big(  t_{*,j} - g_j(\\Xm)\\Big).\n",
    "$$\n"
   ]
  },
  {
   "cell_type": "code",
   "execution_count": 16,
   "metadata": {},
   "outputs": [],
   "source": [
    "class LogisticRegression:\n",
    "    \n",
    "    def __init__(self, param):\n",
    "        self.alpha = param[0]\n",
    "        self.niter = param[1]\n",
    "        \n",
    "        self.meanX = None #  mean of inputs (from standardization)\n",
    "        self.stdX = None # standard deviation of inputs (standardization)\n",
    "        \n",
    "    def normalize(self, X): #standardize the input X\n",
    "              \n",
    "        if not isinstance(X, np.ndarray):\n",
    "            X = np.asanyarray(X)\n",
    "\n",
    "        self.meanX = np.mean(X, 0)\n",
    "        self.stdX = np.std(X, 0)\n",
    "        \n",
    "        Xs = (X - self.meanX) / self.stdX\n",
    "        return Xs\n",
    "\n",
    "    def _check_matrix(self, mat, name):\n",
    "        if len(mat.shape) != 2:\n",
    "            raise ValueError(''.join([\"Matrix is  wrong \", name]))\n",
    "        \n",
    "    \n",
    "    def add_ones(self, X): # adding a basis\n",
    "     \n",
    "        self._check_matrix(X, 'X') #add a column basis to X input matrix\n",
    "        return np.hstack((np.ones((X.shape[0], 1)), X))\n",
    "    \n",
    "    def g(self, X, w):\n",
    "        return 1 / (1 + np.exp(-(X @ w)))\n",
    "    \n",
    "    def train(self, X, T):\n",
    "        c = np.unique(T).tolist()\n",
    "        T = (T == c).astype(int)\n",
    "        \n",
    "        X = self.normalize(X)\n",
    "        X = self.add_ones(X)\n",
    "        \n",
    "        self.w = np.random.rand(np.shape(X)[1], len(c))\n",
    "        \n",
    "        # Learn weights\n",
    "        for step in range(self.niter):\n",
    "            y = self.g(X, self.w)\n",
    "            self.w += self.alpha * X.T @ (T - y)\n",
    "            \n",
    "    def use(self, X):\n",
    "        X = (X - self.meanX) / self.stdX\n",
    "        X = self.add_ones(X)\n",
    "        Y = self.g(X, self.w)\n",
    "        return Y"
   ]
  },
  {
   "cell_type": "markdown",
   "metadata": {},
   "source": [
    "### Preliminary Analysis Logistic Regression\n",
    "*Similarly I will do the same for First I will be calculating accuracy of the target test set without cross validation and later we will see whether 5 fold cross validation will increase the accuracy of the target test set or not. For this I have taken my alpha-learning rate to be 0.1 and I will be training the epochs for 500 times then I use this classifier on my train set and check for the accuracy of the target test set.*"
   ]
  },
  {
   "cell_type": "code",
   "execution_count": 17,
   "metadata": {},
   "outputs": [],
   "source": [
    "alpha_learning_rate= [0.1 , 500]\n",
    "clsf = LogisticRegression(alpha_learning_rate)\n",
    "T_train = T_train.reshape(-1,1)\n",
    "clsf.train(X_train,T_train)\n",
    "y = clsf.use(X_test)\n",
    "y_max = np.argmax(y, 1)"
   ]
  },
  {
   "cell_type": "code",
   "execution_count": 18,
   "metadata": {},
   "outputs": [
    {
     "data": {
      "image/png": "[encoded data removed]",
      "text/plain": [
       "<matplotlib.figure.Figure at 0x1b4bb755208>"
      ]
     },
     "metadata": {},
     "output_type": "display_data"
    },
    {
     "name": "stdout",
     "output_type": "stream",
     "text": [
      "Accuracy:  73.67996444444444 %\n"
     ]
    }
   ],
   "source": [
    "\n",
    "plt.plot(T_test, color = \"#1ECA4E\")\n",
    "plt.plot(y_max, color = \"#DE0D67\")\n",
    "plt.show()\n",
    "\n",
    "print(\"Accuracy: \", 100 - np.mean(np.abs(T_test - y_max)) * 100, \"%\")"
   ]
  },
  {
   "cell_type": "markdown",
   "metadata": {},
   "source": [
    "### 5-Fold Cross Validation\n",
    "I have created a 5 fold cross validation function. Cross-validation is a technique to evaluate predictive models by partitioning the original sample into a training set to train the model, and a test set to evaluate it.\n",
    "In 5-fold cross-validation, the original sample is randomly partitioned into 5 equal size subsamples. Of the 5 subsamples, a single subsample is retained as the validation data for testing the model, and the remaining 4 subsamples are used as training data. The cross-validation process is then repeated 5 times (the folds), with each of the 5 subsamples used exactly once as the validation data. The advantage of this method is that all observations are used for both training and validation, and each observation is used for validation exactly once.<br>\n",
    "I have defined a function for 5-fold cross validation which takes input parameters as X_train which are the independent variables and T_train which is the dependent variable in the training set.<br>\n",
    "We create test partitions and validation partitions and then mask all expect the train. After that I have created train classifier and then mask the test set."
   ]
  },
  {
   "cell_type": "code",
   "execution_count": 37,
   "metadata": {},
   "outputs": [],
   "source": [
    "def cross_val_5fold(X_train, T_train, args, modelClass):\n",
    "    fold = int(X_train.shape[0] / 5)\n",
    "    print(X_train.shape[0])\n",
    "    index = np.arange(0 , X_train.shape[0] + 1 - fold, fold)\n",
    "    print(index)\n",
    "    testerrs = []\n",
    "    # test partitions\n",
    "    for i in index:\n",
    "        # validation partitions\n",
    "        for j in index:\n",
    "            if i == j:\n",
    "                continue\n",
    "                \n",
    "            # masking all except train\n",
    "            mask = np.ones(X_train.shape[0], dtype=bool)\n",
    "            mask[range(i, i + fold)] = False\n",
    "            mask[range(j, j + fold)] = False\n",
    "\n",
    "            x_train = X_train[mask]\n",
    "            t_train = T_train[mask]\n",
    "            x_valid = X_train[j: j + fold]\n",
    "            t_valid = T_train[j: j + fold]\n",
    "\n",
    "            bestArg = None\n",
    "            minErr = float('inf')\n",
    "            for arg in args:\n",
    "                # train classifier\n",
    "                clsf = modelClass(arg)\n",
    "                clsf.train(x_train, t_train)\n",
    "                valid_y = clsf.use(x_valid)\n",
    "                err = np.sum(valid_y * t_valid) / x_valid.shape[0]\n",
    "\n",
    "                if err < minErr:\n",
    "                    bestArg = arg\n",
    "\n",
    "        # mask test set\n",
    "        mask = np.ones(X_train.shape[0], dtype=bool)\n",
    "        mask[range(i, i + fold)] = False\n",
    "        x_train = X_train[mask]\n",
    "        t_train = T_train[mask]\n",
    "        x_test = X_train[i:i + fold]\n",
    "        t_test = T_train[i:i + fold]\n",
    "            \n",
    "        clsf = modelClass(arg)\n",
    "        clsf.train(x_train, t_train)\n",
    "        y_test = clsf.use(x_valid)\n",
    "        testerrs.append((arg,np.sum(y_test * t_test) / x_test.shape[0]))\n",
    "            \n",
    "    return testerrs"
   ]
  },
  {
   "cell_type": "markdown",
   "metadata": {},
   "source": [
    "# <font color=\"#C34F0D\"> IV - Results </font>"
   ]
  },
  {
   "cell_type": "markdown",
   "metadata": {},
   "source": [
    "### Logistic Regression with 5-fold Cross Validation\n",
    "*First, we will train our Logistic Regression classifier with 5-fold cross validation and then find the best structure parameter for Logistic regression. For this I have created a function called test_err which will take the best argument *"
   ]
  },
  {
   "cell_type": "markdown",
   "metadata": {},
   "source": [
    "### Experiment 1\n",
    "#### Parameter choice\n",
    "For experiment 1, I have taken my parameters, alpha to be 0.1 and 0.01 and number of times the data trains is 500. In this the model will find the best parameter among the parameter provided and the plot the graphs and calculate accuracy, f-score, confusion matrix and ROC curve."
   ]
  },
  {
   "cell_type": "code",
   "execution_count": 38,
   "metadata": {
    "scrolled": false
   },
   "outputs": [
    {
     "name": "stdout",
     "output_type": "stream",
     "text": [
      "22500\n",
      "[    0  4500  9000 13500 18000]\n"
     ]
    }
   ],
   "source": [
    "alpha_learning_rate = [[0.1, 500]]\n",
    "test_errs = cross_val_5fold(X_train, T_train, alpha_learning_rate, LogisticRegression)"
   ]
  },
  {
   "cell_type": "code",
   "execution_count": 40,
   "metadata": {},
   "outputs": [],
   "source": [
    "# find best parameter\n",
    "minErr = float('inf')\n",
    "for test_err in test_errs:\n",
    "    if test_err[1] < minErr:\n",
    "        best_arg = test_err[0]\n",
    "        minErr = test_err[1]\n",
    "        \n",
    "model = LogisticRegression(best_arg)\n",
    "model.train(X_train, T_train)\n",
    "Y = model.use(X_test)"
   ]
  },
  {
   "cell_type": "code",
   "execution_count": 41,
   "metadata": {},
   "outputs": [],
   "source": [
    "c = np.argmax(Y, axis=1).reshape(-1, 1)"
   ]
  },
  {
   "cell_type": "code",
   "execution_count": 42,
   "metadata": {},
   "outputs": [
    {
     "name": "stdout",
     "output_type": "stream",
     "text": [
      "Accuracy:  74.74666666666667 %\n"
     ]
    },
    {
     "data": {
      "image/png": "[encoded data removed]",
      "text/plain": [
       "<matplotlib.figure.Figure at 0x1b4bdf6d278>"
      ]
     },
     "metadata": {},
     "output_type": "display_data"
    }
   ],
   "source": [
    "plt.plot(T_test, color = \"#1ECA4E\")\n",
    "plt.plot(c, color = \"#DE0D67\")\n",
    "print(\"Accuracy: \", 100 - np.mean(np.abs(T_test - c)) * 100, \"%\")"
   ]
  },
  {
   "cell_type": "code",
   "execution_count": 43,
   "metadata": {},
   "outputs": [
    {
     "data": {
      "text/html": [
       "<div>\n",
       "<style scoped>\n",
       "    .dataframe tbody tr th:only-of-type {\n",
       "        vertical-align: middle;\n",
       "    }\n",
       "\n",
       "    .dataframe tbody tr th {\n",
       "        vertical-align: top;\n",
       "    }\n",
       "\n",
       "    .dataframe thead th {\n",
       "        text-align: right;\n",
       "    }\n",
       "</style>\n",
       "<table border=\"1\" class=\"dataframe\">\n",
       "  <thead>\n",
       "    <tr style=\"text-align: right;\">\n",
       "      <th></th>\n",
       "      <th>accuracy</th>\n",
       "      <th>auc</th>\n",
       "      <th>f-score</th>\n",
       "      <th>precision</th>\n",
       "      <th>recall</th>\n",
       "      <th>support</th>\n",
       "    </tr>\n",
       "  </thead>\n",
       "  <tbody>\n",
       "    <tr>\n",
       "      <th>negative</th>\n",
       "      <td>0.750</td>\n",
       "      <td>0.510</td>\n",
       "      <td>0.850</td>\n",
       "      <td>0.780</td>\n",
       "      <td>0.930</td>\n",
       "      <td>5828</td>\n",
       "    </tr>\n",
       "    <tr>\n",
       "      <th>positive</th>\n",
       "      <td>0.750</td>\n",
       "      <td>0.510</td>\n",
       "      <td>0.160</td>\n",
       "      <td>0.310</td>\n",
       "      <td>0.100</td>\n",
       "      <td>1672</td>\n",
       "    </tr>\n",
       "  </tbody>\n",
       "</table>\n",
       "</div>"
      ],
      "text/plain": [
       "          accuracy   auc  f-score  precision  recall  support\n",
       "negative     0.750 0.510    0.850      0.780   0.930     5828\n",
       "positive     0.750 0.510    0.160      0.310   0.100     1672"
      ]
     },
     "execution_count": 43,
     "metadata": {},
     "output_type": "execute_result"
    }
   ],
   "source": [
    "P = Y[:, 1].reshape(-1, 1)\n",
    "#print(np.count_nonzero(np.isnan(data)))\n",
    "# ROC Curve\n",
    "fpr, tpr, thresh = metrics.roc_curve(T_test, P, pos_label=1)\n",
    "\n",
    "\n",
    "# Prepare statistics Dataframe\n",
    "stats = dict()\n",
    "stats['accuracy'] = metrics.accuracy_score(T_test, c)\n",
    "stats['precision'], stats['recall'], stats['f-score'], stats['support'] = \\\n",
    "metrics.precision_recall_fscore_support(T_test, c)\n",
    "stats['auc'] = np.trapz(tpr, fpr)\n",
    "stats = pd.DataFrame(stats, index=['negative', 'positive']).round(2)\n",
    "stats"
   ]
  },
  {
   "cell_type": "code",
   "execution_count": 44,
   "metadata": {},
   "outputs": [
    {
     "data": {
      "text/plain": [
       "Text(0,0.5,'True Positive Rate')"
      ]
     },
     "execution_count": 44,
     "metadata": {},
     "output_type": "execute_result"
    },
    {
     "data": {
      "image/png": "[encoded data removed]",
      "text/plain": [
       "<matplotlib.figure.Figure at 0x1b4bdf91ba8>"
      ]
     },
     "metadata": {},
     "output_type": "display_data"
    }
   ],
   "source": [
    "# ROC Curve\n",
    "fig.add_subplot(1, 3, 3)\n",
    "plt.plot([0,1],[0,1],'r--')\n",
    "plt.plot(fpr, tpr)\n",
    "plt.title('ROC Curve')\n",
    "plt.xlabel('False Positive Rate')\n",
    "plt.ylabel('True Positive Rate')"
   ]
  },
  {
   "cell_type": "code",
   "execution_count": 47,
   "metadata": {},
   "outputs": [
    {
     "name": "stderr",
     "output_type": "stream",
     "text": [
      "C:\\Users\\Nipun\\Anaconda3\\envs\\mlbook\\lib\\site-packages\\matplotlib\\cbook\\deprecation.py:106: MatplotlibDeprecationWarning: Adding an axes using the same arguments as a previous axes currently reuses the earlier instance.  In a future version, a new instance will always be created and returned.  Meanwhile, this warning can be suppressed, and the future behavior ensured, by passing a unique label to each axes instance.\n",
      "  warnings.warn(message, mplDeprecation, stacklevel=1)\n"
     ]
    },
    {
     "data": {
      "image/png": "[encoded data removed]",
      "text/plain": [
       "<matplotlib.figure.Figure at 0x1b4be04f780>"
      ]
     },
     "metadata": {},
     "output_type": "display_data"
    }
   ],
   "source": [
    "cm = metrics.confusion_matrix(T_test, c)\n",
    "cm = np.flip(np.flip(cm, axis=0), axis=1)\n",
    "cm = pd.DataFrame(cm, index=['positive', 'negative'], columns=['positive', 'negative'])\n",
    "sns.set(style=\"white\")\n",
    "fig.add_subplot(1, 3, 1)\n",
    "cmap = sns.diverging_palette(150, 100, as_cmap=True)\n",
    "sns.heatmap(cm, fmt=\"d\", cmap=cmap, annot=True, square=True, cbar=False, linewidths=.5)\n",
    "plt.title('Confusion Matrix')\n",
    "plt.ylabel('Actual');\n",
    "plt.xlabel('Predicted');"
   ]
  },
  {
   "cell_type": "markdown",
   "metadata": {},
   "source": [
    "### Experiment 2\n",
    "#### Parameter choice\n",
    "For experiment 2, I have taken my parameters, alpha to be the same but increased the training  and number of times the data trains is 1000. In this the model will find the best parameter among the parameter provided and the plot the graphs and calculate accuracy, f-score, confusion matrix and ROC curve. We will also compare the results of both the experiments."
   ]
  },
  {
   "cell_type": "code",
   "execution_count": 48,
   "metadata": {},
   "outputs": [
    {
     "name": "stdout",
     "output_type": "stream",
     "text": [
      "22500\n",
      "[    0  4500  9000 13500 18000]\n"
     ]
    }
   ],
   "source": [
    "alpha_learning_rate = [(0.1, 1000), (0.01, 1000) ]\n",
    "test_errs = cross_val_5fold(X_train, T_train, alpha_learning_rate, LogisticRegression)"
   ]
  },
  {
   "cell_type": "code",
   "execution_count": 49,
   "metadata": {},
   "outputs": [],
   "source": [
    "# find best parameter\n",
    "minErr = float('inf')\n",
    "for test_err in test_errs:\n",
    "    if test_err[1] < minErr:\n",
    "        best_arg = test_err[0]\n",
    "        minErr = test_err[1]\n",
    "        \n",
    "model = LogisticRegression(best_arg)\n",
    "model.train(X_train, T_train)\n",
    "Y = model.use(X_test)"
   ]
  },
  {
   "cell_type": "code",
   "execution_count": 50,
   "metadata": {},
   "outputs": [],
   "source": [
    "c = np.argmax(Y, axis=1).reshape(-1, 1)"
   ]
  },
  {
   "cell_type": "code",
   "execution_count": 51,
   "metadata": {},
   "outputs": [
    {
     "name": "stdout",
     "output_type": "stream",
     "text": [
      "Accuracy:  73.68 %\n"
     ]
    },
    {
     "data": {
      "image/png": "[encoded data removed]",
      "text/plain": [
       "<matplotlib.figure.Figure at 0x1b4be0065c0>"
      ]
     },
     "metadata": {},
     "output_type": "display_data"
    }
   ],
   "source": [
    "plt.plot(T_test, color = \"#1ECA4E\")\n",
    "plt.plot(c, color = \"#DE0D67\")\n",
    "print(\"Accuracy: \", 100 - np.mean(np.abs(T_test - c)) * 100, \"%\")"
   ]
  },
  {
   "cell_type": "code",
   "execution_count": 52,
   "metadata": {},
   "outputs": [
    {
     "data": {
      "text/html": [
       "<div>\n",
       "<style scoped>\n",
       "    .dataframe tbody tr th:only-of-type {\n",
       "        vertical-align: middle;\n",
       "    }\n",
       "\n",
       "    .dataframe tbody tr th {\n",
       "        vertical-align: top;\n",
       "    }\n",
       "\n",
       "    .dataframe thead th {\n",
       "        text-align: right;\n",
       "    }\n",
       "</style>\n",
       "<table border=\"1\" class=\"dataframe\">\n",
       "  <thead>\n",
       "    <tr style=\"text-align: right;\">\n",
       "      <th></th>\n",
       "      <th>accuracy</th>\n",
       "      <th>auc</th>\n",
       "      <th>f-score</th>\n",
       "      <th>precision</th>\n",
       "      <th>recall</th>\n",
       "      <th>support</th>\n",
       "    </tr>\n",
       "  </thead>\n",
       "  <tbody>\n",
       "    <tr>\n",
       "      <th>negative</th>\n",
       "      <td>0.740</td>\n",
       "      <td>0.670</td>\n",
       "      <td>0.820</td>\n",
       "      <td>0.860</td>\n",
       "      <td>0.800</td>\n",
       "      <td>5828</td>\n",
       "    </tr>\n",
       "    <tr>\n",
       "      <th>positive</th>\n",
       "      <td>0.740</td>\n",
       "      <td>0.670</td>\n",
       "      <td>0.470</td>\n",
       "      <td>0.430</td>\n",
       "      <td>0.530</td>\n",
       "      <td>1672</td>\n",
       "    </tr>\n",
       "  </tbody>\n",
       "</table>\n",
       "</div>"
      ],
      "text/plain": [
       "          accuracy   auc  f-score  precision  recall  support\n",
       "negative     0.740 0.670    0.820      0.860   0.800     5828\n",
       "positive     0.740 0.670    0.470      0.430   0.530     1672"
      ]
     },
     "execution_count": 52,
     "metadata": {},
     "output_type": "execute_result"
    }
   ],
   "source": [
    "P = Y[:, 1].reshape(-1, 1)\n",
    "#print(np.count_nonzero(np.isnan(data)))\n",
    "# ROC Curve\n",
    "fpr, tpr, thresh = metrics.roc_curve(T_test, P, pos_label=1)\n",
    "\n",
    "\n",
    "# Prepare statistics Dataframe\n",
    "stats = dict()\n",
    "stats['accuracy'] = metrics.accuracy_score(T_test, c)\n",
    "stats['precision'], stats['recall'], stats['f-score'], stats['support'] = \\\n",
    "metrics.precision_recall_fscore_support(T_test, c)\n",
    "stats['auc'] = np.trapz(tpr, fpr)\n",
    "stats = pd.DataFrame(stats, index=['negative', 'positive']).round(2)\n",
    "stats"
   ]
  },
  {
   "cell_type": "code",
   "execution_count": 53,
   "metadata": {},
   "outputs": [
    {
     "name": "stderr",
     "output_type": "stream",
     "text": [
      "C:\\Users\\Nipun\\Anaconda3\\envs\\mlbook\\lib\\site-packages\\matplotlib\\cbook\\deprecation.py:106: MatplotlibDeprecationWarning: Adding an axes using the same arguments as a previous axes currently reuses the earlier instance.  In a future version, a new instance will always be created and returned.  Meanwhile, this warning can be suppressed, and the future behavior ensured, by passing a unique label to each axes instance.\n",
      "  warnings.warn(message, mplDeprecation, stacklevel=1)\n"
     ]
    },
    {
     "data": {
      "text/plain": [
       "Text(0,0.5,'True Positive Rate')"
      ]
     },
     "execution_count": 53,
     "metadata": {},
     "output_type": "execute_result"
    },
    {
     "data": {
      "image/png": "[encoded data removed]",
      "text/plain": [
       "<matplotlib.figure.Figure at 0x1b4be04a940>"
      ]
     },
     "metadata": {},
     "output_type": "display_data"
    }
   ],
   "source": [
    "# ROC Curve\n",
    "fig.add_subplot(1, 3, 3)\n",
    "plt.plot([0,1],[0,1],'r--')\n",
    "plt.plot(fpr, tpr)\n",
    "plt.title('ROC Curve')\n",
    "plt.xlabel('False Positive Rate')\n",
    "plt.ylabel('True Positive Rate')"
   ]
  },
  {
   "cell_type": "code",
   "execution_count": 54,
   "metadata": {},
   "outputs": [
    {
     "name": "stderr",
     "output_type": "stream",
     "text": [
      "C:\\Users\\Nipun\\Anaconda3\\envs\\mlbook\\lib\\site-packages\\matplotlib\\cbook\\deprecation.py:106: MatplotlibDeprecationWarning: Adding an axes using the same arguments as a previous axes currently reuses the earlier instance.  In a future version, a new instance will always be created and returned.  Meanwhile, this warning can be suppressed, and the future behavior ensured, by passing a unique label to each axes instance.\n",
      "  warnings.warn(message, mplDeprecation, stacklevel=1)\n"
     ]
    },
    {
     "data": {
      "image/png": "[encoded data removed]",
      "text/plain": [
       "<matplotlib.figure.Figure at 0x1b4be0bf0b8>"
      ]
     },
     "metadata": {},
     "output_type": "display_data"
    }
   ],
   "source": [
    "sns.set(style=\"white\")\n",
    "fig.add_subplot(1, 3, 1)\n",
    "cmap = sns.diverging_palette(150, 100, as_cmap=True)\n",
    "sns.heatmap(cm, fmt=\"d\", cmap=cmap, annot=True, square=True, cbar=False, linewidths=.5)\n",
    "plt.title('Confusion Matrix')\n",
    "plt.ylabel('Actual');\n",
    "plt.xlabel('Predicted');"
   ]
  },
  {
   "cell_type": "markdown",
   "metadata": {},
   "source": [
    "### Classification Results\n",
    "When I keep the alpha same and increase the training on the model we can see that the accuracy also increase."
   ]
  },
  {
   "cell_type": "markdown",
   "metadata": {},
   "source": [
    "### Neural Network with 5-fold Cross Validation\n",
    "*First, we will train our Logistic Regression classifier with 5-fold cross validation and then find the best structure parameter for Logistic regression. For this I have created a function called test_err which will take the best argument *"
   ]
  },
  {
   "cell_type": "markdown",
   "metadata": {},
   "source": [
    "### Experiment 1\n",
    "#### Network structure choice\n",
    "For this I have taken two hidden layers for my model and see what is the accuracy, f-score, confusion matrix and ROC curve of the data. "
   ]
  },
  {
   "cell_type": "code",
   "execution_count": null,
   "metadata": {},
   "outputs": [
    {
     "name": "stdout",
     "output_type": "stream",
     "text": [
      "22500\n",
      "[    0  4500  9000 13500 18000]\n"
     ]
    }
   ],
   "source": [
    "nunits = [[23, 3, 2], [23, 4, 2]]\n",
    "test_er = cross_val_5fold(X_train, T_train, nunits, NeuralNetLogReg)"
   ]
  },
  {
   "cell_type": "code",
   "execution_count": null,
   "metadata": {},
   "outputs": [],
   "source": [
    "# find best parameter\n",
    "minErr = float('inf')\n",
    "for test_err in test_er:\n",
    "    if test_err[1] < minErr:\n",
    "        best_arg = test_err[0]\n",
    "        minErr = test_err[1]\n",
    "        \n",
    "model = NeuralNetLogReg(best_arg)\n",
    "model.train(X_train, T_train)\n",
    "Y = model.use(X_test)"
   ]
  },
  {
   "cell_type": "code",
   "execution_count": null,
   "metadata": {},
   "outputs": [],
   "source": [
    "c = np.argmax(Y, axis=1).reshape(-1, 1)"
   ]
  },
  {
   "cell_type": "code",
   "execution_count": null,
   "metadata": {},
   "outputs": [],
   "source": [
    "plt.plot(T_test, color = \"#1ECA4E\")\n",
    "plt.plot(c, color = \"#DE0D67\")\n",
    "print(\"Accuracy: \", 100 - np.mean(np.abs(T_test - c)) * 100, \"%\")"
   ]
  },
  {
   "cell_type": "code",
   "execution_count": null,
   "metadata": {},
   "outputs": [],
   "source": [
    "P = Y[:, 1].reshape(-1, 1)\n",
    "# ROC Curve\n",
    "fpr, tpr, thresh = metrics.roc_curve(T_test, P, pos_label=1)\n",
    "\n",
    "\n",
    "# Prepare statistics Dataframe\n",
    "stats = dict()\n",
    "stats['accuracy'] = metrics.accuracy_score(T_test, c)\n",
    "stats['precision'], stats['recall'], stats['f-score'], stats['support'] = \\\n",
    "metrics.precision_recall_fscore_support(T_test, c)\n",
    "stats['auc'] = np.trapz(tpr, fpr)\n",
    "stats = pd.DataFrame(stats, index=['negative', 'positive']).round(2)\n",
    "stats"
   ]
  },
  {
   "cell_type": "code",
   "execution_count": null,
   "metadata": {},
   "outputs": [],
   "source": [
    "sns.set(style=\"white\")\n",
    "fig.add_subplot(1, 3, 1)\n",
    "cmap = sns.diverging_palette(150, 100, as_cmap=True)\n",
    "sns.heatmap(cm, fmt=\"d\", cmap=cmap, annot=True, square=True, cbar=False, linewidths=.5)\n",
    "plt.title('Confusion Matrix')\n",
    "plt.ylabel('Actual');\n",
    "plt.xlabel('Predicted');"
   ]
  },
  {
   "cell_type": "code",
   "execution_count": null,
   "metadata": {},
   "outputs": [],
   "source": [
    "# ROC Curve\n",
    "fig.add_subplot(1, 3, 3)\n",
    "plt.plot([0,1],[0,1],'r--')\n",
    "plt.plot(fpr, tpr)\n",
    "plt.title('ROC Curve')\n",
    "plt.xlabel('False Positive Rate')\n",
    "plt.ylabel('True Positive Rate')"
   ]
  },
  {
   "cell_type": "markdown",
   "metadata": {},
   "source": [
    "### Experiment 2\n",
    "#### Network structure choice\n",
    "For this I have added a third hidden layers to see how it affects the accuracy of the model and I will be comparing the results of accuracy, f-score, confusion matrix and ROC curve with that of the experiment 1."
   ]
  },
  {
   "cell_type": "code",
   "execution_count": null,
   "metadata": {},
   "outputs": [],
   "source": [
    "nunits = [[23, 3, 2], [23, 4, 2], [23, 5, 2]]\n",
    "test_er = cross_val_5fold(X_train, T_train, nunits, NeuralNetLogReg)"
   ]
  },
  {
   "cell_type": "code",
   "execution_count": null,
   "metadata": {},
   "outputs": [],
   "source": [
    "# find best parameter\n",
    "minErr = float('inf')\n",
    "for test_err in test_er:\n",
    "    if test_err[1] < minErr:\n",
    "        best_arg = test_err[0]\n",
    "        minErr = test_err[1]\n",
    "        \n",
    "model = NeuralNetLogReg(best_arg)\n",
    "model.train(X_train, T_train)\n",
    "Y = model.use(X_test)"
   ]
  },
  {
   "cell_type": "code",
   "execution_count": null,
   "metadata": {},
   "outputs": [],
   "source": [
    "c = np.argmax(Y, axis=1).reshape(-1, 1)"
   ]
  },
  {
   "cell_type": "code",
   "execution_count": null,
   "metadata": {},
   "outputs": [],
   "source": [
    "plt.plot(T_test, color = \"#1ECA4E\")\n",
    "plt.plot(c, color = \"#DE0D67\")\n",
    "print(\"Accuracy: \", 100 - np.mean(np.abs(T_test - c)) * 100, \"%\")"
   ]
  },
  {
   "cell_type": "code",
   "execution_count": null,
   "metadata": {},
   "outputs": [],
   "source": [
    "P = Y[:, 1].reshape(-1, 1)\n",
    "# ROC Curve\n",
    "fpr, tpr, thresh = metrics.roc_curve(T_test, P, pos_label=1)\n",
    "\n",
    "\n",
    "# Prepare statistics Dataframe\n",
    "stats = dict()\n",
    "stats['accuracy'] = metrics.accuracy_score(T_test, c)\n",
    "stats['precision'], stats['recall'], stats['f-score'], stats['support'] = \\\n",
    "metrics.precision_recall_fscore_support(T_test, c)\n",
    "stats['auc'] = np.trapz(tpr, fpr)\n",
    "stats = pd.DataFrame(stats, index=['negative', 'positive']).round(2)\n",
    "stats"
   ]
  },
  {
   "cell_type": "code",
   "execution_count": null,
   "metadata": {},
   "outputs": [],
   "source": [
    "sns.set(style=\"white\")\n",
    "fig.add_subplot(1, 3, 1)\n",
    "cmap = sns.diverging_palette(150, 100, as_cmap=True)\n",
    "sns.heatmap(cm, fmt=\"d\", cmap=cmap, annot=True, square=True, cbar=False, linewidths=.5)\n",
    "plt.title('Confusion Matrix')\n",
    "plt.ylabel('Actual');\n",
    "plt.xlabel('Predicted');"
   ]
  },
  {
   "cell_type": "code",
   "execution_count": null,
   "metadata": {},
   "outputs": [],
   "source": [
    "# ROC Curve\n",
    "fig.add_subplot(1, 3, 3)\n",
    "plt.plot([0,1],[0,1],'r--')\n",
    "plt.plot(fpr, tpr)\n",
    "plt.title('ROC Curve')\n",
    "plt.xlabel('False Positive Rate')\n",
    "plt.ylabel('True Positive Rate')"
   ]
  },
  {
   "cell_type": "markdown",
   "metadata": {},
   "source": [
    "### Classification results\n",
    "As we can see from experiment 1 and experiment 2, when we add a hidden layer to our network structure the accuracy of the model increase, this is because as we add more layers the dimensionality increase and we reduce the complexity of the problem."
   ]
  },
  {
   "cell_type": "markdown",
   "metadata": {},
   "source": [
    "### Classification model comparison\n",
    "As we can see from the above results Non Linear Logistic Regression Model is better than Logistic Regression, the reason being the hidden layers where each layer can apply any function you want to the previous layer, the hidden layer's job is to transform the inputs into something that the output layer can use and the output layer transforms the hidden layer activations into whatever scale you wanted your output to be on. Hence, the accuracy of Non Linear Logistic Regression Model is better than Logistic Regression after applying 5-fold cross validation "
   ]
  },
  {
   "cell_type": "markdown",
   "metadata": {},
   "source": [
    "### Classification results Summary\n",
    "The classification results have improved after applying 5 fold cross validation to the models, Logistic Regression and Non Linear Logistic Regression. 5-fold cross-validation estimator has a lower variance than a single hold-out set estimator, which can be very important if the amount of data available is limited. If you have a single hold out set, where 90% of data are used for training and 10% used for testing, the test set is very small, so there will be a lot of variation in the performance estimate for different samples of data, or for different partitions of the data to form training and test sets. 5-fold validation reduces this variance by averaging over k different partitions, so the performance estimate is less sensitive to the partitioning of the data. We can go even further by repeated k-fold cross-validation, where the cross-validation is performed using different partitioning of the data to form k sub-sets, and then taking the average over that as well. "
   ]
  }
 ],
 "metadata": {
  "kernelspec": {
   "display_name": "Python 3",
   "language": "python",
   "name": "python3"
  },
  "language_info": {
   "codemirror_mode": {
    "name": "ipython",
    "version": 3
   },
   "file_extension": ".py",
   "mimetype": "text/x-python",
   "name": "python",
   "nbconvert_exporter": "python",
   "pygments_lexer": "ipython3",
   "version": "3.6.5"
  }
 },
 "nbformat": 4,
 "nbformat_minor": 2
}
